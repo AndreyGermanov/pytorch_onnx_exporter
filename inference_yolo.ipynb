{
 "cells": [
  {
   "cell_type": "code",
   "execution_count": 1,
   "metadata": {
    "collapsed": true
   },
   "outputs": [],
   "source": [
    "import onnx,onnxruntime\n",
    "from PIL import Image,ImageOps\n",
    "import numpy as np"
   ]
  },
  {
   "cell_type": "code",
   "execution_count": 122,
   "outputs": [],
   "source": [
    "ort_session = onnxruntime.InferenceSession(\"yolov7-tiny.onnx\")"
   ],
   "metadata": {
    "collapsed": false
   }
  },
  {
   "cell_type": "code",
   "execution_count": 123,
   "outputs": [],
   "source": [
    "model_size = 640\n",
    "img = Image.open(\"sample2.jpg\")\n",
    "mx = max(img.size)\n",
    "ratio = 1\n",
    "if mx>model_size:\n",
    "    ratio = model_size/mx\n",
    "img2 = img.resize((int(img.size[0]*ratio),int(img.size[1]*ratio)))\n",
    "dw = model_size-img2.size[0]\n",
    "dh = model_size-img2.size[1]\n",
    "model_img = Image.new(\"RGB\",(model_size,model_size),(114,114,114))\n",
    "model_img.paste(img2,(int(dw/2),int(dh/2)))"
   ],
   "metadata": {
    "collapsed": false
   }
  },
  {
   "cell_type": "code",
   "execution_count": 124,
   "outputs": [],
   "source": [
    "arr = np.array(model_img)\n",
    "arr = np.transpose(arr, (2, 0, 1)).astype(np.float32)\n",
    "arr = np.expand_dims(arr,axis=0)\n",
    "arr = arr / 255.0"
   ],
   "metadata": {
    "collapsed": false
   }
  },
  {
   "cell_type": "code",
   "execution_count": 125,
   "outputs": [],
   "source": [
    "inputs = {ort_session.get_inputs()[0].name:arr}"
   ],
   "metadata": {
    "collapsed": false
   }
  },
  {
   "cell_type": "code",
   "execution_count": 126,
   "outputs": [],
   "source": [
    "ort_outs = ort_session.run(None, inputs)"
   ],
   "metadata": {
    "collapsed": false
   }
  },
  {
   "cell_type": "code",
   "execution_count": 127,
   "outputs": [
    {
     "data": {
      "text/plain": "(12, 7)"
     },
     "execution_count": 127,
     "metadata": {},
     "output_type": "execute_result"
    }
   ],
   "source": [
    "ort_outs[0].shape"
   ],
   "metadata": {
    "collapsed": false
   }
  },
  {
   "cell_type": "code",
   "execution_count": 128,
   "outputs": [],
   "source": [
    "yolo_classnames = ('person', 'bicycle', 'car', 'motorcycle', 'airplane', 'bus', 'train', 'truck', 'boat',\n",
    "                   'traffic light',\n",
    "                   'fire hydrant', 'stop sign', 'parking meter', 'bench', 'bird', 'cat', 'dog', 'horse', 'sheep', 'cow',\n",
    "                   'elephant', 'bear', 'zebra', 'giraffe', 'backpack', 'umbrella', 'handbag', 'tie', 'suitcase',\n",
    "                   'frisbee',\n",
    "                   'skis', 'snowboard', 'sports ball', 'kite', 'baseball bat', 'baseball glove', 'skateboard',\n",
    "                   'surfboard',\n",
    "                   'tennis racket', 'bottle', 'wine glass', 'cup', 'fork', 'knife', 'spoon', 'bowl', 'banana', 'apple',\n",
    "                   'sandwich', 'orange', 'broccoli', 'carrot', 'hot dog', 'pizza', 'donut', 'cake', 'chair', 'couch',\n",
    "                   'potted plant', 'bed', 'dining table', 'toilet', 'tv', 'laptop', 'mouse', 'remote', 'keyboard',\n",
    "                   'cell phone',\n",
    "                   'microwave', 'oven', 'toaster', 'sink', 'refrigerator', 'book', 'clock', 'vase', 'scissors',\n",
    "                   'teddy bear',\n",
    "                   'hair drier', 'toothbrush')"
   ],
   "metadata": {
    "collapsed": false
   }
  },
  {
   "cell_type": "code",
   "execution_count": 132,
   "outputs": [
    {
     "name": "stdout",
     "output_type": "stream",
     "text": [
      "CLASS: person , BOUNDING BOX: ( 537 142 709 515 ), PROBABILITY: 0.9244387\n",
      "CLASS: person , BOUNDING BOX: ( 764 163 912 514 ), PROBABILITY: 0.8818183\n",
      "CLASS: person , BOUNDING BOX: ( 675 171 835 514 ), PROBABILITY: 0.835396\n",
      "CLASS: person , BOUNDING BOX: ( 428 160 571 520 ), PROBABILITY: 0.8192133\n",
      "CLASS: person , BOUNDING BOX: ( 352 149 462 518 ), PROBABILITY: 0.8038565\n",
      "CLASS: person , BOUNDING BOX: ( 98 154 251 509 ), PROBABILITY: 0.7910819\n",
      "CLASS: person , BOUNDING BOX: ( 98 152 348 520 ), PROBABILITY: 0.789951\n",
      "CLASS: laptop , BOUNDING BOX: ( 780 278 875 351 ), PROBABILITY: 0.773834\n",
      "CLASS: laptop , BOUNDING BOX: ( 571 252 681 331 ), PROBABILITY: 0.60596275\n",
      "CLASS: laptop , BOUNDING BOX: ( 135 275 225 339 ), PROBABILITY: 0.60025555\n",
      "CLASS: bench , BOUNDING BOX: ( 5 303 959 505 ), PROBABILITY: 0.42294806\n",
      "CLASS: person , BOUNDING BOX: ( 214 147 364 522 ), PROBABILITY: 0.39956522\n"
     ]
    }
   ],
   "source": [
    "for idx,out in enumerate(ort_outs[0]):\n",
    "    bs,x1,y1,x2,y2,cls,prob = out\n",
    "    x1 = int((x1-dw/2)/ratio)\n",
    "    x2 = int((x2-dw/2)/ratio)\n",
    "    y1 = int((y1-dh/2)/ratio)\n",
    "    y2 = int((y2-dh/2)/ratio)\n",
    "    print(\"CLASS:\",yolo_classnames[int(cls)],\", BOUNDING BOX: (\",x1,y1,x2,y2,\"), PROBABILITY:\",prob)"
   ],
   "metadata": {
    "collapsed": false
   }
  }
 ],
 "metadata": {
  "kernelspec": {
   "display_name": "Python 3",
   "language": "python",
   "name": "python3"
  },
  "language_info": {
   "codemirror_mode": {
    "name": "ipython",
    "version": 2
   },
   "file_extension": ".py",
   "mimetype": "text/x-python",
   "name": "python",
   "nbconvert_exporter": "python",
   "pygments_lexer": "ipython2",
   "version": "2.7.6"
  }
 },
 "nbformat": 4,
 "nbformat_minor": 0
}
