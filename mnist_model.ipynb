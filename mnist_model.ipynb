{
 "cells": [
  {
   "cell_type": "code",
   "execution_count": 32,
   "outputs": [
    {
     "name": "stdout",
     "output_type": "stream",
     "text": [
      "Collecting torchvision\r\n",
      "  Downloading torchvision-0.15.1-cp39-cp39-manylinux1_x86_64.whl (6.0 MB)\r\n",
      "\u001B[2K     \u001B[90m━━━━━━━━━━━━━━━━━━━━━━━━━━━━━━━━━━━━━━━━\u001B[0m \u001B[32m6.0/6.0 MB\u001B[0m \u001B[31m1.3 MB/s\u001B[0m eta \u001B[36m0:00:00\u001B[0m00:01\u001B[0m00:01\u001B[0m0m\r\n",
      "\u001B[?25hRequirement already satisfied: pillow!=8.3.*,>=5.3.0 in /home/andrey/anaconda3/lib/python3.9/site-packages (from torchvision) (9.2.0)\r\n",
      "Requirement already satisfied: requests in /home/andrey/anaconda3/lib/python3.9/site-packages (from torchvision) (2.28.1)\r\n",
      "Requirement already satisfied: numpy in /home/andrey/anaconda3/lib/python3.9/site-packages (from torchvision) (1.21.5)\r\n",
      "Requirement already satisfied: torch==2.0.0 in /home/andrey/anaconda3/lib/python3.9/site-packages (from torchvision) (2.0.0)\r\n",
      "Requirement already satisfied: nvidia-cuda-runtime-cu11==11.7.99 in /home/andrey/anaconda3/lib/python3.9/site-packages (from torch==2.0.0->torchvision) (11.7.99)\r\n",
      "Requirement already satisfied: nvidia-cuda-nvrtc-cu11==11.7.99 in /home/andrey/anaconda3/lib/python3.9/site-packages (from torch==2.0.0->torchvision) (11.7.99)\r\n",
      "Requirement already satisfied: filelock in /home/andrey/anaconda3/lib/python3.9/site-packages (from torch==2.0.0->torchvision) (3.6.0)\r\n",
      "Requirement already satisfied: nvidia-cusolver-cu11==11.4.0.1 in /home/andrey/anaconda3/lib/python3.9/site-packages (from torch==2.0.0->torchvision) (11.4.0.1)\r\n",
      "Requirement already satisfied: typing-extensions in /home/andrey/anaconda3/lib/python3.9/site-packages (from torch==2.0.0->torchvision) (4.3.0)\r\n",
      "Requirement already satisfied: nvidia-curand-cu11==10.2.10.91 in /home/andrey/anaconda3/lib/python3.9/site-packages (from torch==2.0.0->torchvision) (10.2.10.91)\r\n",
      "Requirement already satisfied: jinja2 in /home/andrey/anaconda3/lib/python3.9/site-packages (from torch==2.0.0->torchvision) (2.11.3)\r\n",
      "Requirement already satisfied: networkx in /home/andrey/anaconda3/lib/python3.9/site-packages (from torch==2.0.0->torchvision) (2.8.4)\r\n",
      "Requirement already satisfied: nvidia-cublas-cu11==11.10.3.66 in /home/andrey/anaconda3/lib/python3.9/site-packages (from torch==2.0.0->torchvision) (11.10.3.66)\r\n",
      "Requirement already satisfied: nvidia-cusparse-cu11==11.7.4.91 in /home/andrey/anaconda3/lib/python3.9/site-packages (from torch==2.0.0->torchvision) (11.7.4.91)\r\n",
      "Requirement already satisfied: nvidia-nvtx-cu11==11.7.91 in /home/andrey/anaconda3/lib/python3.9/site-packages (from torch==2.0.0->torchvision) (11.7.91)\r\n",
      "Requirement already satisfied: triton==2.0.0 in /home/andrey/anaconda3/lib/python3.9/site-packages (from torch==2.0.0->torchvision) (2.0.0)\r\n",
      "Requirement already satisfied: nvidia-cudnn-cu11==8.5.0.96 in /home/andrey/anaconda3/lib/python3.9/site-packages (from torch==2.0.0->torchvision) (8.5.0.96)\r\n",
      "Requirement already satisfied: nvidia-cufft-cu11==10.9.0.58 in /home/andrey/anaconda3/lib/python3.9/site-packages (from torch==2.0.0->torchvision) (10.9.0.58)\r\n",
      "Requirement already satisfied: sympy in /home/andrey/anaconda3/lib/python3.9/site-packages (from torch==2.0.0->torchvision) (1.10.1)\r\n",
      "Requirement already satisfied: nvidia-nccl-cu11==2.14.3 in /home/andrey/anaconda3/lib/python3.9/site-packages (from torch==2.0.0->torchvision) (2.14.3)\r\n",
      "Requirement already satisfied: nvidia-cuda-cupti-cu11==11.7.101 in /home/andrey/anaconda3/lib/python3.9/site-packages (from torch==2.0.0->torchvision) (11.7.101)\r\n",
      "Requirement already satisfied: setuptools in /home/andrey/anaconda3/lib/python3.9/site-packages (from nvidia-cublas-cu11==11.10.3.66->torch==2.0.0->torchvision) (63.4.1)\r\n",
      "Requirement already satisfied: wheel in /home/andrey/anaconda3/lib/python3.9/site-packages (from nvidia-cublas-cu11==11.10.3.66->torch==2.0.0->torchvision) (0.37.1)\r\n",
      "Requirement already satisfied: cmake in /home/andrey/anaconda3/lib/python3.9/site-packages (from triton==2.0.0->torch==2.0.0->torchvision) (3.26.0)\r\n",
      "Requirement already satisfied: lit in /home/andrey/anaconda3/lib/python3.9/site-packages (from triton==2.0.0->torch==2.0.0->torchvision) (15.0.7)\r\n",
      "Requirement already satisfied: urllib3<1.27,>=1.21.1 in /home/andrey/anaconda3/lib/python3.9/site-packages (from requests->torchvision) (1.26.11)\r\n",
      "Requirement already satisfied: certifi>=2017.4.17 in /home/andrey/anaconda3/lib/python3.9/site-packages (from requests->torchvision) (2022.9.14)\r\n",
      "Requirement already satisfied: charset-normalizer<3,>=2 in /home/andrey/anaconda3/lib/python3.9/site-packages (from requests->torchvision) (2.0.4)\r\n",
      "Requirement already satisfied: idna<4,>=2.5 in /home/andrey/anaconda3/lib/python3.9/site-packages (from requests->torchvision) (3.3)\r\n",
      "Requirement already satisfied: MarkupSafe>=0.23 in /home/andrey/anaconda3/lib/python3.9/site-packages (from jinja2->torch==2.0.0->torchvision) (2.0.1)\r\n",
      "Requirement already satisfied: mpmath>=0.19 in /home/andrey/anaconda3/lib/python3.9/site-packages (from sympy->torch==2.0.0->torchvision) (1.2.1)\r\n",
      "Installing collected packages: torchvision\r\n",
      "Successfully installed torchvision-0.15.1\r\n"
     ]
    }
   ],
   "source": [
    "!pip install torch torchvision"
   ],
   "metadata": {
    "collapsed": false
   }
  },
  {
   "cell_type": "code",
   "execution_count": 3,
   "outputs": [],
   "source": [
    "import os\n",
    "import torch\n",
    "from torch.utils.data import Dataset\n",
    "from torchvision.io import read_image\n",
    "from torch import nn"
   ],
   "metadata": {
    "collapsed": false
   }
  },
  {
   "cell_type": "code",
   "execution_count": 4,
   "outputs": [],
   "source": [
    "path = \"training\"\n",
    "labels = os.listdir(path)\n",
    "\n",
    "def createDatasetIndex(path):\n",
    "    result = {}\n",
    "    for label in labels:\n",
    "        if os.path.isfile(label):\n",
    "            continue\n",
    "        files = os.listdir(os.path.join(path,label))\n",
    "        for file in files:\n",
    "            result[len(result)] = (os.path.join(path,label,file),int(label))\n",
    "    return result\n"
   ],
   "metadata": {
    "collapsed": false
   }
  },
  {
   "cell_type": "code",
   "execution_count": 5,
   "outputs": [],
   "source": [
    "class MNIST(Dataset):\n",
    "    def __init__(self,path):\n",
    "        self.items = createDatasetIndex(path)\n",
    "\n",
    "    def __len__(self):\n",
    "        return len(self.items)\n",
    "\n",
    "    def __getitem__(self,index):\n",
    "        img = read_image(self.items[index][0]) / 255.0\n",
    "        label = self.items[index][1]\n",
    "        return img,label\n"
   ],
   "metadata": {
    "collapsed": false
   }
  },
  {
   "cell_type": "code",
   "execution_count": 6,
   "outputs": [],
   "source": [
    "train_data = MNIST(\"training\")\n",
    "test_data = MNIST(\"testing\")"
   ],
   "metadata": {
    "collapsed": false
   }
  },
  {
   "cell_type": "code",
   "execution_count": 7,
   "outputs": [],
   "source": [
    "from torch.utils.data import DataLoader"
   ],
   "metadata": {
    "collapsed": false
   }
  },
  {
   "cell_type": "code",
   "execution_count": 8,
   "outputs": [],
   "source": [
    "train_loader = DataLoader(train_data,batch_size=64,shuffle=True)\n",
    "test_loader = DataLoader(test_data,batch_size=64,shuffle=True)"
   ],
   "metadata": {
    "collapsed": false
   }
  },
  {
   "cell_type": "code",
   "execution_count": 9,
   "outputs": [],
   "source": [
    "class NeuralNetwork(torch.nn.Module):\n",
    "    def __init__(self):\n",
    "        super().__init__()\n",
    "        self.net = torch.nn.Sequential(\n",
    "            nn.Conv2d(in_channels=1,out_channels=6,kernel_size=5,padding=2),\n",
    "            nn.ReLU(),\n",
    "            nn.MaxPool2d(kernel_size=2,stride=2),\n",
    "            nn.Conv2d(in_channels=6,out_channels=16,kernel_size=5),\n",
    "            nn.ReLU(),\n",
    "            nn.MaxPool2d(kernel_size=2,stride=2),\n",
    "            nn.Flatten(),\n",
    "            nn.Linear(in_features=400,out_features=120),\n",
    "            nn.ReLU(),\n",
    "            nn.Linear(in_features=120,out_features=84),\n",
    "            nn.ReLU(),\n",
    "            nn.Linear(in_features=84,out_features=10),\n",
    "        )\n",
    "\n",
    "    def forward(self,x):\n",
    "        return self.net(x)\n",
    "\n",
    "model = NeuralNetwork()"
   ],
   "metadata": {
    "collapsed": false
   }
  },
  {
   "cell_type": "code",
   "execution_count": 10,
   "outputs": [],
   "source": [
    "loss_fn = nn.CrossEntropyLoss()\n",
    "optimizer = torch.optim.Adam(model.parameters(),lr=0.001)"
   ],
   "metadata": {
    "collapsed": false
   }
  },
  {
   "cell_type": "code",
   "execution_count": 11,
   "outputs": [],
   "source": [
    "def train(data_loader):\n",
    "    size = len(data_loader.dataset)\n",
    "    model.train()\n",
    "    for batch,(X,y) in enumerate(data_loader):\n",
    "        pred = model.forward(X)\n",
    "        loss = loss_fn(pred,y)\n",
    "        optimizer.zero_grad()\n",
    "        loss.backward()\n",
    "        optimizer.step()\n",
    "\n",
    "        if batch % 100 == 0:\n",
    "            loss,current = loss.item(), (batch + 1) * len(X)\n",
    "            print(f\"loss: {loss:>7f}  [{current:>5d}/{size:>5d}]\")"
   ],
   "metadata": {
    "collapsed": false
   }
  },
  {
   "cell_type": "code",
   "execution_count": 12,
   "outputs": [],
   "source": [
    "def test(data_loader):\n",
    "    size = len(data_loader.dataset)\n",
    "    num_batches = len(data_loader)\n",
    "    test_loss,correct = 0,0\n",
    "    model.eval()\n",
    "    with torch.no_grad():\n",
    "        for X,y in data_loader:\n",
    "            pred = model.forward(X)\n",
    "            test_loss += loss_fn(pred,y).item()\n",
    "            correct += (pred.argmax(1) == y).type(torch.float).sum().item()\n",
    "    test_loss /= num_batches\n",
    "    correct /= size\n",
    "    print(f\"Test error: \\n Accuracy: {(100*correct):>0.1f}%, Avg. loss: {test_loss:>8f} \\n\")\n",
    "    return correct"
   ],
   "metadata": {
    "collapsed": false
   }
  },
  {
   "cell_type": "code",
   "execution_count": 13,
   "outputs": [
    {
     "name": "stdout",
     "output_type": "stream",
     "text": [
      "loss: 2.319910  [   64/60000]\n",
      "loss: 0.312807  [ 6464/60000]\n",
      "loss: 0.419672  [12864/60000]\n",
      "loss: 0.333957  [19264/60000]\n",
      "loss: 0.111833  [25664/60000]\n",
      "loss: 0.186219  [32064/60000]\n",
      "loss: 0.119482  [38464/60000]\n",
      "loss: 0.144648  [44864/60000]\n",
      "loss: 0.163873  [51264/60000]\n",
      "loss: 0.047154  [57664/60000]\n",
      "Test error: \n",
      " Accuracy: 97.5%, Avg. loss: 0.080831 \n",
      "\n",
      "loss: 0.070730  [   64/60000]\n",
      "loss: 0.087217  [ 6464/60000]\n",
      "loss: 0.027546  [12864/60000]\n",
      "loss: 0.025250  [19264/60000]\n",
      "loss: 0.222738  [25664/60000]\n",
      "loss: 0.100965  [32064/60000]\n",
      "loss: 0.057617  [38464/60000]\n",
      "loss: 0.025117  [44864/60000]\n",
      "loss: 0.015224  [51264/60000]\n",
      "loss: 0.084889  [57664/60000]\n",
      "Test error: \n",
      " Accuracy: 98.1%, Avg. loss: 0.057562 \n",
      "\n"
     ]
    }
   ],
   "source": [
    "for epoch in range(1,10):\n",
    "    train(train_loader)\n",
    "    correct = test(test_loader)\n",
    "    if correct > 0.98:\n",
    "        break"
   ],
   "metadata": {
    "collapsed": false
   }
  },
  {
   "cell_type": "code",
   "execution_count": 398,
   "outputs": [],
   "source": [
    "!pip install onnx onnxruntime;"
   ],
   "metadata": {
    "collapsed": false
   }
  },
  {
   "cell_type": "code",
   "execution_count": 14,
   "outputs": [],
   "source": [
    "import torch.onnx"
   ],
   "metadata": {
    "collapsed": false
   }
  },
  {
   "cell_type": "code",
   "execution_count": 16,
   "outputs": [
    {
     "name": "stdout",
     "output_type": "stream",
     "text": [
      "8 8\n"
     ]
    }
   ],
   "source": [
    "pred = model(torch.unsqueeze(test_data[6000][0],0)).argmax(1)\n",
    "print(int(pred),test_data[6000][1])"
   ],
   "metadata": {
    "collapsed": false
   }
  },
  {
   "cell_type": "code",
   "execution_count": 18,
   "outputs": [
    {
     "name": "stdout",
     "output_type": "stream",
     "text": [
      "============= Diagnostic Run torch.onnx.export version 2.0.0+cu117 =============\n",
      "verbose: False, log level: Level.ERROR\n",
      "======================= 0 NONE 0 NOTE 0 WARNING 0 ERROR ========================\n",
      "\n"
     ]
    }
   ],
   "source": [
    "dummy_input = torch.randn(1,1,28,28)\n",
    "torch.onnx.export(model,\n",
    "      dummy_input,\n",
    "      \"mnist.onnx\",\n",
    "      export_params=True,\n",
    "      opset_version=10,\n",
    "      do_constant_folding=True,\n",
    "      input_names = ['input'],\n",
    "      output_names = ['output'],\n",
    "      dynamic_axes={'input' : {0 : 'batch_size'},\n",
    "                    'output' : {0 : 'batch_size'}}\n",
    ")"
   ],
   "metadata": {
    "collapsed": false
   }
  }
 ],
 "metadata": {
  "kernelspec": {
   "display_name": "Python 3",
   "language": "python",
   "name": "python3"
  },
  "language_info": {
   "codemirror_mode": {
    "name": "ipython",
    "version": 2
   },
   "file_extension": ".py",
   "mimetype": "text/x-python",
   "name": "python",
   "nbconvert_exporter": "python",
   "pygments_lexer": "ipython2",
   "version": "2.7.6"
  }
 },
 "nbformat": 4,
 "nbformat_minor": 0
}
